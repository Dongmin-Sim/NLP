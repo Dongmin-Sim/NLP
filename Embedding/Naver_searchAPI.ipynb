{
 "cells": [
  {
   "cell_type": "markdown",
   "metadata": {},
   "source": [
    "# 네이버 검색 API 를 통한 뉴스 가져오기\n",
    "\n",
    "[네이버 뉴스 api](https://developers.naver.com/docs/serviceapi/search/news/news.md#%EB%89%B4%EC%8A%A4)"
   ]
  },
  {
   "cell_type": "code",
   "execution_count": 1,
   "metadata": {},
   "outputs": [
    {
     "name": "stdout",
     "output_type": "stream",
     "text": [
      "client_id : 5vJNRZBYSgCMaC4WGGHD\n",
      "client_secret : JmGndGBMUI\n",
      "검색 키워드 : 전기차\n",
      "정렬 옵션 [sim (유사도순), date (날짜순)] : sim\n"
     ]
    }
   ],
   "source": [
    "import os\n",
    "import sys\n",
    "import urllib.request\n",
    "import json\n",
    "import pandas as pd\n",
    "import re\n",
    "\n",
    "client_id = input('client_id : ')\n",
    "client_secret = input('client_secret : ')\n",
    "\n",
    "query = urllib.parse.quote(input('검색 키워드 : '))\n",
    "\n",
    "idx = 0\n",
    "display = 100\n",
    "start = 1 \n",
    "end = 1000\n",
    "# 정렬 옵션: sim (유사도순), date (날짜순)\n",
    "sort = input('정렬 옵션 [sim (유사도순), date (날짜순)] : ')\n",
    "\n",
    "news_df = pd.DataFrame(columns=('title', 'originallink', 'link', 'description', 'pubDate'))\n",
    "\n",
    "for start_idx in range(start, end, display):    \n",
    "    \n",
    "    url = \"https://openapi.naver.com/v1/search/news?query=\" + query \\\n",
    "    + \"&display=\" + str(display) \\\n",
    "    + \"&start=\" + str(start_idx) \\\n",
    "    + \"&sort=\" + sort\n",
    "    # url = \"https://openapi.naver.com/v1/search/blog.xml?query=\" + encText # xml 결과\n",
    "\n",
    "    request = urllib.request.Request(url)\n",
    "    request.add_header(\"X-Naver-Client-Id\",client_id)\n",
    "    request.add_header(\"X-Naver-Client-Secret\",client_secret)\n",
    "    response = urllib.request.urlopen(request)\n",
    "    rescode = response.getcode()\n",
    "\n",
    "    if(rescode==200):\n",
    "        response_body = response.read()\n",
    "        response_dict = json.loads(response_body.decode('utf-8'))\n",
    "        items = response_dict['items']\n",
    "        \n",
    "        for index in range(0, len(items)):\n",
    "            tag_remover = re.compile('<.*?>')\n",
    "            titles = re.sub(tag_remover, '', items[index]['title'])\n",
    "            originallinks = items[index]['originallink']\n",
    "            links = items[index]['link']\n",
    "            descriptions = re.sub(tag_remover, '', items[index]['description'])\n",
    "            pubDates = items[index]['pubDate']\n",
    "            \n",
    "            news_df.loc[idx] = [titles, originallinks, links, descriptions, pubDates]\n",
    "            idx += 1\n",
    "    else:\n",
    "        print(\"Error Code:\" + rescode)"
   ]
  },
  {
   "cell_type": "code",
   "execution_count": 2,
   "metadata": {},
   "outputs": [
    {
     "data": {
      "text/html": [
       "<div>\n",
       "<style scoped>\n",
       "    .dataframe tbody tr th:only-of-type {\n",
       "        vertical-align: middle;\n",
       "    }\n",
       "\n",
       "    .dataframe tbody tr th {\n",
       "        vertical-align: top;\n",
       "    }\n",
       "\n",
       "    .dataframe thead th {\n",
       "        text-align: right;\n",
       "    }\n",
       "</style>\n",
       "<table border=\"1\" class=\"dataframe\">\n",
       "  <thead>\n",
       "    <tr style=\"text-align: right;\">\n",
       "      <th></th>\n",
       "      <th>title</th>\n",
       "      <th>originallink</th>\n",
       "      <th>link</th>\n",
       "      <th>description</th>\n",
       "      <th>pubDate</th>\n",
       "    </tr>\n",
       "  </thead>\n",
       "  <tbody>\n",
       "    <tr>\n",
       "      <th>0</th>\n",
       "      <td>SK㈜, 이번엔 전기차 시장 공략…충전기 제조사 시그넷EV 인수(종합)</td>\n",
       "      <td>http://yna.kr/AKR20210415167800003?did=1195m</td>\n",
       "      <td>https://news.naver.com/main/read.nhn?mode=LSD&amp;...</td>\n",
       "      <td>신주 포함 2천930억원으로 지분 55.5% 확보 스웨덴 전기차 폴스타에도 6천만달...</td>\n",
       "      <td>Thu, 15 Apr 2021 18:04:00 +0900</td>\n",
       "    </tr>\n",
       "    <tr>\n",
       "      <th>1</th>\n",
       "      <td>SK, 전기차·급속 충전 시장 진출</td>\n",
       "      <td>http://www.etnews.com/20210415000266</td>\n",
       "      <td>https://news.naver.com/main/read.nhn?mode=LSD&amp;...</td>\n",
       "      <td>SK㈜가 친환경 전기차 인프라 및 전기차 업체 투자로 세계 전기차 시장 공략에 나섰...</td>\n",
       "      <td>Thu, 15 Apr 2021 18:23:00 +0900</td>\n",
       "    </tr>\n",
       "    <tr>\n",
       "      <th>2</th>\n",
       "      <td>SK, 전기차 시장 공략…시그넷 EV 인수·스웨덴 폴스타 투자</td>\n",
       "      <td>https://biz.chosun.com/site/data/html_dir/2021...</td>\n",
       "      <td>https://news.naver.com/main/read.nhn?mode=LSD&amp;...</td>\n",
       "      <td>SK(034730)그룹의 투자전문회사 SK㈜가 국내 초급속 충전기 제조사인 시그넷 ...</td>\n",
       "      <td>Thu, 15 Apr 2021 18:14:00 +0900</td>\n",
       "    </tr>\n",
       "    <tr>\n",
       "      <th>3</th>\n",
       "      <td>제네시스·전기차·수소차 다 동원…中 시장 재건 나선 현대차그룹</td>\n",
       "      <td>http://news.mt.co.kr/mtview.php?no=20210415142...</td>\n",
       "      <td>https://news.naver.com/main/read.nhn?mode=LSD&amp;...</td>\n",
       "      <td>현대차그룹이 전용 전기차를 비롯한 친환경차 라인업 확대 등 중국시장 재도약을 위한 ...</td>\n",
       "      <td>Thu, 15 Apr 2021 15:00:00 +0900</td>\n",
       "    </tr>\n",
       "    <tr>\n",
       "      <th>4</th>\n",
       "      <td>SK, 전기차 충전기 제조사 '시그넷 EV' 인수… 스웨덴 전기차 '폴스타' 투자도</td>\n",
       "      <td>http://moneys.mt.co.kr/news/mwView.php?no=2021...</td>\n",
       "      <td>https://news.naver.com/main/read.nhn?mode=LSD&amp;...</td>\n",
       "      <td>투자전문회사 SK가 친환경 전기차 인프라 및 기술 선점을 통해 글로벌 전기차 시장 ...</td>\n",
       "      <td>Thu, 15 Apr 2021 18:14:00 +0900</td>\n",
       "    </tr>\n",
       "  </tbody>\n",
       "</table>\n",
       "</div>"
      ],
      "text/plain": [
       "                                            title  \\\n",
       "0         SK㈜, 이번엔 전기차 시장 공략…충전기 제조사 시그넷EV 인수(종합)   \n",
       "1                             SK, 전기차·급속 충전 시장 진출   \n",
       "2              SK, 전기차 시장 공략…시그넷 EV 인수·스웨덴 폴스타 투자   \n",
       "3              제네시스·전기차·수소차 다 동원…中 시장 재건 나선 현대차그룹   \n",
       "4  SK, 전기차 충전기 제조사 '시그넷 EV' 인수… 스웨덴 전기차 '폴스타' 투자도   \n",
       "\n",
       "                                        originallink  \\\n",
       "0       http://yna.kr/AKR20210415167800003?did=1195m   \n",
       "1               http://www.etnews.com/20210415000266   \n",
       "2  https://biz.chosun.com/site/data/html_dir/2021...   \n",
       "3  http://news.mt.co.kr/mtview.php?no=20210415142...   \n",
       "4  http://moneys.mt.co.kr/news/mwView.php?no=2021...   \n",
       "\n",
       "                                                link  \\\n",
       "0  https://news.naver.com/main/read.nhn?mode=LSD&...   \n",
       "1  https://news.naver.com/main/read.nhn?mode=LSD&...   \n",
       "2  https://news.naver.com/main/read.nhn?mode=LSD&...   \n",
       "3  https://news.naver.com/main/read.nhn?mode=LSD&...   \n",
       "4  https://news.naver.com/main/read.nhn?mode=LSD&...   \n",
       "\n",
       "                                         description  \\\n",
       "0  신주 포함 2천930억원으로 지분 55.5% 확보 스웨덴 전기차 폴스타에도 6천만달...   \n",
       "1  SK㈜가 친환경 전기차 인프라 및 전기차 업체 투자로 세계 전기차 시장 공략에 나섰...   \n",
       "2  SK(034730)그룹의 투자전문회사 SK㈜가 국내 초급속 충전기 제조사인 시그넷 ...   \n",
       "3  현대차그룹이 전용 전기차를 비롯한 친환경차 라인업 확대 등 중국시장 재도약을 위한 ...   \n",
       "4  투자전문회사 SK가 친환경 전기차 인프라 및 기술 선점을 통해 글로벌 전기차 시장 ...   \n",
       "\n",
       "                           pubDate  \n",
       "0  Thu, 15 Apr 2021 18:04:00 +0900  \n",
       "1  Thu, 15 Apr 2021 18:23:00 +0900  \n",
       "2  Thu, 15 Apr 2021 18:14:00 +0900  \n",
       "3  Thu, 15 Apr 2021 15:00:00 +0900  \n",
       "4  Thu, 15 Apr 2021 18:14:00 +0900  "
      ]
     },
     "execution_count": 2,
     "metadata": {},
     "output_type": "execute_result"
    }
   ],
   "source": [
    "news_df.head()"
   ]
  },
  {
   "cell_type": "code",
   "execution_count": 3,
   "metadata": {},
   "outputs": [],
   "source": [
    "news_df.to_csv('data/news_electrcicar.csv', index=False)"
   ]
  }
 ],
 "metadata": {
  "kernelspec": {
   "display_name": "Python 3",
   "language": "python",
   "name": "python3"
  },
  "language_info": {
   "codemirror_mode": {
    "name": "ipython",
    "version": 3
   },
   "file_extension": ".py",
   "mimetype": "text/x-python",
   "name": "python",
   "nbconvert_exporter": "python",
   "pygments_lexer": "ipython3",
   "version": "3.8.5"
  },
  "toc": {
   "base_numbering": 1,
   "nav_menu": {},
   "number_sections": true,
   "sideBar": true,
   "skip_h1_title": false,
   "title_cell": "Table of Contents",
   "title_sidebar": "Contents",
   "toc_cell": false,
   "toc_position": {},
   "toc_section_display": true,
   "toc_window_display": false
  },
  "varInspector": {
   "cols": {
    "lenName": 16,
    "lenType": 16,
    "lenVar": 40
   },
   "kernels_config": {
    "python": {
     "delete_cmd_postfix": "",
     "delete_cmd_prefix": "del ",
     "library": "var_list.py",
     "varRefreshCmd": "print(var_dic_list())"
    },
    "r": {
     "delete_cmd_postfix": ") ",
     "delete_cmd_prefix": "rm(",
     "library": "var_list.r",
     "varRefreshCmd": "cat(var_dic_list()) "
    }
   },
   "types_to_exclude": [
    "module",
    "function",
    "builtin_function_or_method",
    "instance",
    "_Feature"
   ],
   "window_display": false
  }
 },
 "nbformat": 4,
 "nbformat_minor": 4
}
